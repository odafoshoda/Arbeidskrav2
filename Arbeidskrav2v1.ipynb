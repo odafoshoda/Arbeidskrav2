{
 "cells": [
  {
   "cell_type": "code",
   "execution_count": 313,
   "id": "5f59e3db-8b7d-4b02-b849-2e3fabfdf2ff",
   "metadata": {},
   "outputs": [
    {
     "name": "stdin",
     "output_type": "stream",
     "text": [
      "Hvilket år er du født? 1905\n"
     ]
    },
    {
     "name": "stdout",
     "output_type": "stream",
     "text": [
      "I 2024 ble du 119 år\n"
     ]
    }
   ],
   "source": [
    "# Oppgave 1\n",
    "\n",
    "alder1 = int(input('Hvilket år er du født?') )\n",
    "alder2 = 2024 - alder1 \n",
    "\n",
    "print('I 2024 ble du', alder2, 'år') #'Ble' siden det er 2025 ;)"
   ]
  },
  {
   "cell_type": "code",
   "execution_count": 43,
   "id": "0e099c8b-64f6-47ca-8ecd-26087d478577",
   "metadata": {},
   "outputs": [
    {
     "name": "stdin",
     "output_type": "stream",
     "text": [
      "Skriv inn antall elever: 6\n"
     ]
    },
    {
     "name": "stdout",
     "output_type": "stream",
     "text": [
      "Du må kjøpe 2 pizzaer\n"
     ]
    }
   ],
   "source": [
    "#Oppgave 2\n",
    "\n",
    "antall_elever = int(input('Skriv inn antall elever:'))\n",
    "antall_pizza = int(antall_elever * 0.25+1)\n",
    "#En elev spiser 1/4 pizza, altså 0.25 pizza.Jeg la til +1 for å sikre at det ikke gir feks 1 pizza til 6 elever.   \n",
    "\n",
    "                    \n",
    "print('Du må kjøpe', antall_pizza, 'pizzaer')"
   ]
  },
  {
   "cell_type": "code",
   "execution_count": 315,
   "id": "ba6adcf9-dff4-46c1-880f-3b953bb77c91",
   "metadata": {},
   "outputs": [
    {
     "name": "stdin",
     "output_type": "stream",
     "text": [
      "Skriv inn gradtallet: 45\n"
     ]
    },
    {
     "name": "stdout",
     "output_type": "stream",
     "text": [
      "45.0 grader er 0.7854 radianer.\n"
     ]
    }
   ],
   "source": [
    "#Oppgave 3\n",
    "\n",
    "import numpy as np \n",
    "\n",
    "def oms_oppg3():\n",
    "    v_rad = v_grad * np.pi/180\n",
    "    return round(v_rad, 4)\n",
    "    #Jeg avrunder til 4 desimaler - jeg er ikke kjent med radianer, men det var vanskelig å lese så mange desimaler. Hvis man fjerner '4', så får man alle desimalene.\n",
    "\n",
    "v_grad = float(input('Skriv inn gradtallet:'))\n",
    "\n",
    "print(v_grad, 'grader er', v_rad, 'radianer.')"
   ]
  },
  {
   "cell_type": "code",
   "execution_count": 311,
   "id": "b0aa86df-3d00-44b1-ac94-c0b6e18813db",
   "metadata": {},
   "outputs": [],
   "source": [
    "#Oppgave 4 a\n",
    "\n",
    "data = {\n",
    "    'Norge': ['Oslo', 0.634],\n",
    "    'England':['London', 8.982],\n",
    "    'Frankrike': ['Paris', 2.161],\n",
    "    'Italia': ['Roma', 2.873]\n",
    "    }"
   ]
  },
  {
   "cell_type": "code",
   "execution_count": 121,
   "id": "69120b48-5184-4ef5-b220-b7f5ad5dc6ce",
   "metadata": {},
   "outputs": [
    {
     "name": "stdin",
     "output_type": "stream",
     "text": [
      "Skriv inn et land: England\n"
     ]
    },
    {
     "name": "stdout",
     "output_type": "stream",
     "text": [
      "London er hovedstaden i England og det er 8.982 millioner innbyggere i London.\n"
     ]
    }
   ],
   "source": [
    "#Oppgave 4 b\n",
    "\n",
    "data = {\n",
    "    'Norge': ['Oslo', 0.634],\n",
    "    'England':['London', 8.982],\n",
    "    'Frankrike': ['Paris', 2.161],\n",
    "    'Italia': ['Roma', 2.873]\n",
    "    }\n",
    "\n",
    "land = input('Skriv inn et land:')\n",
    "\n",
    "print(f'{data[land][0]} er hovedstaden i {land} og det er {data[land][1]} millioner innbyggere i {data[land][0]}.')"
   ]
  },
  {
   "cell_type": "code",
   "execution_count": 133,
   "id": "a7ac287f-47ff-440f-99bf-ab72238e6486",
   "metadata": {},
   "outputs": [
    {
     "name": "stdin",
     "output_type": "stream",
     "text": [
      "Skriv inn et nytt land: Island\n",
      "Skriv inn hovedstaden i dette landet: Reykjavik\n",
      "Skriv inn antall millioner innbyggere i dette landet, med tre desimaler: 0.140\n"
     ]
    },
    {
     "name": "stdout",
     "output_type": "stream",
     "text": [
      "{'Norge': ['Oslo', 0.634], 'England': ['London', 8.982], 'Frankrike': ['Paris', 2.161], 'Italia': ['Roma', 2.873], 'Island': ['Reykjavik', 0.14]}\n"
     ]
    }
   ],
   "source": [
    "# Oppgave 4 c\n",
    "\n",
    "data = {\n",
    "    'Norge': ['Oslo', 0.634],\n",
    "    'England':['London', 8.982],\n",
    "    'Frankrike': ['Paris', 2.161],\n",
    "    'Italia': ['Roma', 2.873]\n",
    "    }\n",
    "\n",
    "land = input('Skriv inn et nytt land:')\n",
    "hovedstad = input('Skriv inn hovedstaden i dette landet:')\n",
    "innbyggertall = float(input('Skriv inn antall millioner innbyggere i dette landet, med tre desimaler:'))\n",
    "\n",
    "data[land] = [hovedstad, innbyggertall]\n",
    "\n",
    "print(data)\n"
   ]
  },
  {
   "cell_type": "code",
   "execution_count": 275,
   "id": "04d8f47c-10e8-4f02-99d2-c9741fcc4ac5",
   "metadata": {},
   "outputs": [
    {
     "name": "stdout",
     "output_type": "stream",
     "text": [
      "Arealet er 303.25 og omkretsen er 76.0.\n"
     ]
    }
   ],
   "source": [
    "# Oppgave 5\n",
    "\n",
    "# Jeg kan ikke denne typen matematikk. Jeg har derfor tenkt meg to ulike kvadrater rett oppå hverandre, i stedet for figuren som er tegnet. Jeg har virkelig forsøkt å forstå geometrien, men jeg får rett og slett ikke til å skrive formelen, selv etter at jeg har googlet den.\n",
    "# Jeg håper dette demonstrerer at jeg forstår hvordan jeg skal lage en funksjon med to variabler, selv om jeg ikke forstår matematikken i den oppgaven dere vil at jeg skal løse.\n",
    "\n",
    "def oms_oppg5(side1, side2):\n",
    "\n",
    "     \"\"\"Beregning av omkrets og areal av to kvadrater oppå hverandre.\n",
    "    Side1 er det lille kvadratet\n",
    "    Side2 er det store kvadratet\n",
    "    \"\"\"\n",
    "     areal = (side1 * side1) + (side2 * side2)\n",
    "     omkrets = ((side1 * 4) + (side2 * 4)) - (side1 * 2) #For å illustrere at man må ta bort lengden av de delene av kvadratene som er inntil hverandre.\n",
    "     return areal, omkrets\n",
    "\n",
    "side1 = 11\n",
    "side2 = 13\n",
    "\n",
    "areal, omkrets = oms_oppg5(side1, side2)\n",
    "print(f'Arealet er {areal} og omkretsen er {omkrets}.')\n",
    "    "
   ]
  },
  {
   "cell_type": "code",
   "execution_count": 309,
   "id": "14bb1308-19e6-45ee-811a-5ad36337e867",
   "metadata": {},
   "outputs": [
    {
     "data": {
      "text/plain": [
       "[<matplotlib.lines.Line2D at 0x1d01a1e0590>]"
      ]
     },
     "execution_count": 309,
     "metadata": {},
     "output_type": "execute_result"
    },
    {
     "data": {
      "image/png": "[encoded data removed]",
      "text/plain": [
       "<Figure size 640x480 with 1 Axes>"
      ]
     },
     "metadata": {},
     "output_type": "display_data"
    }
   ],
   "source": [
    "# Oppgave 6\n",
    "\n",
    "import numpy as np\n",
    "import matplotlib.pyplot as plt\n",
    "\n",
    "x = np.linspace(-10, 10, 200) #Jeg vet ikke om det er riktig å sette x-verdien her, men jeg tenker kanskje det siden man skal \"plotte for x på intervallet [-10,10]\"\n",
    "# y = ? Jeg kan ikke matematikk. Jeg forstår ikke hvor jeg skal finne y-verdien.\n",
    "\n",
    "plt.title('Oppgave 6')\n",
    "plt.xlabel('Noe jeg ikke forstår')\n",
    "plt.ylabel('Noe annet jeg ikke forstår')\n",
    "plt.grid()\n",
    "\n",
    "\n",
    "plt.plot(x, y, color='red', linestyle ='-', linewidth=1)\n"
   ]
  },
  {
   "cell_type": "code",
   "execution_count": null,
   "id": "32a05949-674f-47a2-83e2-d07e3023037b",
   "metadata": {},
   "outputs": [],
   "source": [
    "#Jeg er dårlig i matte. Jeg håper allikevel at jeg har demonstrert at jeg forstår noe av det vi har gått gjennom i vinter."
   ]
  }
 ],
 "metadata": {
  "kernelspec": {
   "display_name": "Python 3 (ipykernel)",
   "language": "python",
   "name": "python3"
  },
  "language_info": {
   "codemirror_mode": {
    "name": "ipython",
    "version": 3
   },
   "file_extension": ".py",
   "mimetype": "text/x-python",
   "name": "python",
   "nbconvert_exporter": "python",
   "pygments_lexer": "ipython3",
   "version": "3.12.7"
  }
 },
 "nbformat": 4,
 "nbformat_minor": 5
}
